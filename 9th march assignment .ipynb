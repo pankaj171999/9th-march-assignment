{
 "cells": [
  {
   "cell_type": "code",
   "execution_count": null,
   "id": "fa7d6e26-abdc-4287-9c30-a9ae9d571253",
   "metadata": {},
   "outputs": [],
   "source": [
    "Q1(Ans)\n",
    "Probability Mass Function Definition\n",
    "Probability mass function can be defined as the probability that a discrete random variable will be exactly equal to some particular value. \n",
    "In other words, the probability mass function assigns a particular probability to every possible value of a discrete random variable.\n",
    "\n",
    "Probability Mass Function Example\n",
    "Suppose a fair coin is tossed twice and the sample space is recorded as S = [HH, HT, TH, TT]. The probability of getting heads needs to be determined. \n",
    "Let X be the random variable that shows how many heads are obtained. X can take on the values 0, 1, 2. The probability that X will be equal to 1 is 0.5. Thus, \n",
    "it can be said that the probability mass function of X evaluated at 1 will be 0.5.\n",
    "\n",
    "Probability Density Function (PDF)?\n",
    "Probability density function (PDF) is a statistical expression that defines a probability distribution (the likelihood of an outcome) for a discrete random variable (e.g., a stock or ETF) as opposed to a continuous random variable.\n",
    "The difference between a discrete random variable is that you can identify an exact value of the variable.\n",
    "\n",
    "Example of probability density function\n",
    "As a simple example of a probability distribution, let us look at the number observed when rolling two standard six-sided dice.\n",
    "Each die has a 1/6 probability of rolling any single number, one through six, but the sum of two dice will form the probability distribution"
   ]
  },
  {
   "cell_type": "code",
   "execution_count": null,
   "id": "7dce48c6-af2e-432b-baca-9a5bb18091ac",
   "metadata": {},
   "outputs": [],
   "source": [
    "Q2(Ans)\n",
    "What Is the Cumulative Distribution Function?\n",
    "The cumulative distribution function is used to describe the probability distribution of random variables. \n",
    "It can be used to describe the probability for a discrete, continuous or mixed variable. It is obtained by summing up the probability density function and getting the cumulative probability for a random variable."
   ]
  },
  {
   "cell_type": "code",
   "execution_count": null,
   "id": "6cd5d00f-b50f-4e2f-8177-9288a0104a08",
   "metadata": {},
   "outputs": [],
   "source": [
    "Q3(Ans)\n",
    "Examples \n",
    "1. Height of males\n",
    "2. Technical Stock Market\n",
    "3. Blood Pressure   \n",
    "4. Shoe Size\n",
    "\n",
    "The two main parameters of a (normal) distribution are the mean and standard deviation. The parameters determine the shape and probabilities of the distribution. \n",
    "The shape of the distribution changes as the parameter values change."
   ]
  },
  {
   "cell_type": "code",
   "execution_count": null,
   "id": "9df9e1b3-5cc4-4f7f-ae5c-879261513b57",
   "metadata": {},
   "outputs": [],
   "source": [
    "Q4(Ans)\n",
    "The normal distribution is an important probability distribution in math and statistics because many continuous data in nature and psychology display this bell-shaped curve when compiled and graphed.\n",
    "Examples\n",
    "1. Height of males\n",
    "2. Technical Stock Market\n",
    "3. Blood Pressure   \n",
    "4. Birthweight of baby"
   ]
  },
  {
   "cell_type": "code",
   "execution_count": null,
   "id": "a3e64f2d-4ce8-4b6a-9347-4ebdab5d7434",
   "metadata": {},
   "outputs": [],
   "source": [
    "Q5(Ans)\n",
    "The Bernoulli distribution therefore describes events having exactly two outcomes,\n",
    "Example\n",
    "A team will win a championship or not\n",
    "A student will pass or fail an exam\n",
    "\n",
    "Bernoulli deals with the outcome of the single trial of the event, whereas Binomial deals with the outcome of the multiple trials of the single event"
   ]
  },
  {
   "cell_type": "code",
   "execution_count": null,
   "id": "16447b37-4826-4a10-8bb2-89af377f92b6",
   "metadata": {},
   "outputs": [],
   "source": [
    "Q6(Ans)\n",
    "Ans=0.84"
   ]
  },
  {
   "cell_type": "code",
   "execution_count": null,
   "id": "f3e6b74a-d7ac-4381-8aab-7af07b781a5a",
   "metadata": {},
   "outputs": [],
   "source": [
    "Q7(Ans)\n",
    "What Is Uniform Distribution?\n",
    "In statistics, uniform distribution refers to a type of probability distribution in which all outcomes are equally likely\n",
    "Example\n",
    "1.A deck of cards also has a uniform distribution. \n",
    "2.Discrete uniform distribution would be the possible outcomes of rolling a 6-sided die"
   ]
  },
  {
   "cell_type": "code",
   "execution_count": null,
   "id": "491f90c3-599c-4e27-9fda-de4a8e963da6",
   "metadata": {},
   "outputs": [],
   "source": [
    "Q8(Ans)\n",
    "What is Z score\n",
    "A measure of how many standard deviations below or above the population mean a raw score is called z score. \n",
    "It will be positive if the value lies above the mean and negative if it lies below the mean. It is also known as standard score.\n",
    "\n",
    "Using z scores allows communication researchers to make comparisons across data derived from different normally distributed samples"
   ]
  },
  {
   "cell_type": "code",
   "execution_count": null,
   "id": "f6c5c5fe-da29-4f31-811a-6cc5297e3f22",
   "metadata": {},
   "outputs": [],
   "source": [
    "Q9(Ans)\n",
    "What is the central limit theorem?\n",
    "The central limit theorem relies on the concept of a sampling distribution, which is the probability distribution of a statistic for a large number of samples taken from a population\n",
    "The distribution of the sample means is an example of a sampling distribution.\n",
    "\n",
    "The central limit theorem says that the sampling distribution of the mean will always be normally distributed, as long as the sample size is large enough. Regardless of whether the population has a normal, Poisson, binomial,\n",
    "or any other distribution, the sampling distribution of the mean will be normal.\n",
    "\n",
    "Significance of Central Limit Theorem\n",
    "The CLT has several applications. Look at the places where you can use it.\n",
    "\n",
    "Political/election polling is a great example of how you can use CLT. These polls are used to estimate the number of people who support a specific candidate. You may have seen these results with confidence intervals on news channels. The CLT aids in this calculation.\n",
    "You use the CLT in various census fields to calculate various population details, such as family income, electricity consumption, individual salaries, and so on."
   ]
  },
  {
   "cell_type": "code",
   "execution_count": null,
   "id": "07acae31-536f-495d-b94c-ea22e8f13afc",
   "metadata": {},
   "outputs": [],
   "source": [
    "Q10(Ans)\n",
    "Assumptions Behind the Central Limit Theorem\n",
    "it is important to understand the assumptions behind CLT:\n",
    "\n",
    "The data must adhere to the randomization rule. It needs to be sampled at random.\n",
    "The samples should be unrelated to one another. One sample should not impact the others.\n",
    "When taking samples without replacement, the sample size should not exceed 10% of the population.\n",
    "When the population is symmetric, a sample size of 30 is generally considered reasonable. "
   ]
  }
 ],
 "metadata": {
  "kernelspec": {
   "display_name": "Python 3 (ipykernel)",
   "language": "python",
   "name": "python3"
  },
  "language_info": {
   "codemirror_mode": {
    "name": "ipython",
    "version": 3
   },
   "file_extension": ".py",
   "mimetype": "text/x-python",
   "name": "python",
   "nbconvert_exporter": "python",
   "pygments_lexer": "ipython3",
   "version": "3.10.8"
  }
 },
 "nbformat": 4,
 "nbformat_minor": 5
}
